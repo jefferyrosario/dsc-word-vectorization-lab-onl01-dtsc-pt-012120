{
 "cells": [
  {
   "cell_type": "markdown",
   "metadata": {},
   "source": [
    "# Word Vectorization - Lab\n",
    "\n",
    "## Introduction\n",
    "\n",
    "In this lab, you'll tokenize and vectorize text documents, create and use a bag of words, and identify words unique to individual documents using TF-IDF vectorization. \n",
    "\n",
    "\n",
    "## Objectives\n",
    "\n",
    "In this lab you will:  \n",
    "\n",
    "- Implement tokenization and count vectorization from scratch \n",
    "- Implement TF-IDF from scratch \n",
    "- Use dimensionality reduction on vectorized text data to create and interpret visualizations \n",
    "\n",
    "## Let's get started!\n",
    "\n",
    "Run the cell below to import everything necessary for this lab.  "
   ]
  },
  {
   "cell_type": "code",
   "execution_count": 81,
   "metadata": {},
   "outputs": [
    {
     "name": "stderr",
     "output_type": "stream",
     "text": [
      "[nltk_data] Downloading package punkt to C:\\Users\\Jeffery\n",
      "[nltk_data]     Rosario\\AppData\\Roaming\\nltk_data...\n",
      "[nltk_data]   Unzipping tokenizers\\punkt.zip.\n"
     ]
    },
    {
     "data": {
      "text/plain": [
       "True"
      ]
     },
     "execution_count": 81,
     "metadata": {},
     "output_type": "execute_result"
    }
   ],
   "source": [
    "import pandas as pd\n",
    "import numpy as np\n",
    "from mpl_toolkits.mplot3d import Axes3D\n",
    "import matplotlib.pyplot as plt\n",
    "%matplotlib inline\n",
    "from sklearn.manifold import TSNE\n",
    "from nltk.tokenize import word_tokenize\n",
    "np.random.seed(0)\n",
    "\n",
    "import nltk\n",
    "nltk.download('punkt')"
   ]
  },
  {
   "cell_type": "markdown",
   "metadata": {},
   "source": [
    "### Our Corpus\n",
    "\n",
    "In this lab, we'll be working with 20 different documents, each containing song lyrics from either Garth Brooks or Kendrick Lamar albums.  \n",
    "\n",
    "The songs are contained within the `data` subdirectory, contained within the same folder as this lab.  Each song is stored in a single file, with files ranging from `song1.txt` to `song20.txt`.  \n",
    "\n",
    "To make it easy to read in all of the documents, use a list comprehension to create a list containing the name of every single song file in the cell below. "
   ]
  },
  {
   "cell_type": "code",
   "execution_count": 6,
   "metadata": {},
   "outputs": [],
   "source": [
    "filenames = ['song' + str(i) + '.txt' for i in range(1,21)]\n",
    "    \n",
    "    "
   ]
  },
  {
   "cell_type": "markdown",
   "metadata": {},
   "source": [
    "Next, create an empty DataFrame called `songs_df`.  As we read in the songs and store and clean them, we'll store them in this DataFrame."
   ]
  },
  {
   "cell_type": "code",
   "execution_count": 7,
   "metadata": {},
   "outputs": [],
   "source": [
    "songs_df = pd.DataFrame()"
   ]
  },
  {
   "cell_type": "markdown",
   "metadata": {},
   "source": [
    "Next, let's import a single song to see what our text looks like so that we can make sure we clean and tokenize it correctly. \n",
    "\n",
    "In the cell below, read in and print out the lyrics from `song11.txt`.  Use vanilla Python, no pandas needed.  "
   ]
  },
  {
   "cell_type": "code",
   "execution_count": 30,
   "metadata": {},
   "outputs": [
    {
     "name": "stdout",
     "output_type": "stream",
     "text": [
      "\n"
     ]
    }
   ],
   "source": [
    "# Import and print song11.txt\n",
    "with open('data/song11.txt') as f:\n",
    "    test_song = f.readlines()\n",
    "    print(f.read())"
   ]
  },
  {
   "cell_type": "markdown",
   "metadata": {},
   "source": [
    "### Tokenizing our Data\n",
    "\n",
    "Before we can create a bag of words or vectorize each document, we need to clean it up and split each song into an array of individual words. Computers are very particular about strings. If we tokenized our data in its current state, we would run into the following problems:\n",
    "\n",
    "- Counting things that aren't actually words.  In the example above, `\"[Kendrick]\"` is a note specifying who is speaking, not a lyric contained in the actual song, so it should be removed.  \n",
    "- Punctuation and capitalization would mess up our word counts. To the Python interpreter, `love`, `Love`, `Love?`, and `Love\\n` are all unique words, and would all be counted separately.  We need to remove punctuation and capitalization, so that all words will be counted correctly. \n",
    "\n",
    "Consider the following sentences from the example above:\n",
    "\n",
    "`\"Love, let's talk about love\\n\", 'Is it anything and everything you hoped for?\\n'`\n",
    "\n",
    "After tokenization, this should look like:\n",
    "\n",
    "`['love', 'let's', 'talk', 'about', 'love', 'is', 'it', 'anything', 'and', 'everything', 'you', 'hoped', 'for']`\n",
    "\n",
    "Tokenization is pretty tedious if we handle it manually, and would probably make use of regular expressions, which is outside the scope of this lab. In order to keep this lab moving, we'll use a library function to clean and tokenize our data so that we can move onto vectorization.  \n",
    "\n",
    "Tokenization is a required task for just about any Natural Language Processing (NLP) task, so great industry-standard tools exist to tokenize things for us, so that we can spend our time on more important tasks without getting bogged down hunting every special symbol or punctuation in a massive dataset. For this lab, we'll make use of the tokenizer in the amazing `nltk` library, which is short for _Natural Language Tool Kit_.\n",
    "\n",
    "**_NOTE:_** NLTK requires extra installation methods to be run the first time certain methods are used.  If `nltk` throws you an error about needing to install additional packages, follow the instructions in the error message to install the dependencies, and then rerun the cell.  \n",
    "\n",
    "Before we tokenize our songs, we'll do only a small manual bit of cleaning. In the cell below, write a function that allows us to remove lines that have `['artist names']` in it, to ensure that our song files contain only lyrics that are actually in the song. For the lines that remain, make every word lowercase, remove newline characters `\\n`, and all the following punctuation marks: `\",.'?!\"`\n",
    "\n",
    "Test the function on `test_song` to show that it has successfully removed `'[Kendrick Lamar:]'` and other instances of artist names from the song and returned it.  "
   ]
  },
  {
   "cell_type": "code",
   "execution_count": 107,
   "metadata": {},
   "outputs": [
    {
     "data": {
      "text/plain": [
       "['love lets talk about love',\n",
       " 'is it anything and everything you hoped for',\n",
       " 'or do the feeling haunt you',\n",
       " 'i know the feeling haunt you',\n",
       " 'this may be the night that my dreams might let me know',\n",
       " 'all the stars approach you all the stars approach you all the stars approach you',\n",
       " 'this may be the night that my dreams might let me know',\n",
       " 'all the stars are closer all the stars are closer all the stars are closer',\n",
       " 'tell me what you gon do to me',\n",
       " 'confrontation aint nothin new to me',\n",
       " 'you can bring a bullet bring a sword bring a morgue',\n",
       " 'but you cant bring the truth to me',\n",
       " 'fuck you and all your expectations',\n",
       " 'i dont even want your congratulations',\n",
       " 'i recognize your false confidence',\n",
       " 'and calculated promises all in your conversation',\n",
       " 'i hate people that feel entitled',\n",
       " 'look at me crazy cause i aint invite you',\n",
       " 'oh you important',\n",
       " 'you the moral to the story you endorsin',\n",
       " 'motherfucker i dont even like you',\n",
       " 'corrupt a mans heart with a gift',\n",
       " 'thats how you find out who you dealin with',\n",
       " 'a small percentage who im buildin with',\n",
       " 'i want the credit if im losin or im winnin',\n",
       " 'on my momma thats the realest shit',\n",
       " 'love lets talk about love',\n",
       " 'is it anything and everything you hoped for',\n",
       " 'or do the feeling haunt you',\n",
       " 'i know the feeling haunt you',\n",
       " 'this may be the night that my dreams might let me know',\n",
       " 'all the stars approach you all the stars approach you all the stars approach you',\n",
       " 'this may be the night that my dreams might let me know',\n",
       " 'all the stars are closer all the stars are closer all the stars are closer',\n",
       " 'skin covered in ego',\n",
       " 'get to talkin like ya involved like a rebound',\n",
       " 'got no end game got no reason',\n",
       " 'got to stay down its the way that you making me feel',\n",
       " 'like nobody ever loved me like you do you do',\n",
       " 'you kinda feeling like youre tryna get away from me',\n",
       " 'if you do i wont move',\n",
       " 'i aint just cryin for no reason',\n",
       " 'i aint just prayin for no reason',\n",
       " 'i give thanks for the days for the hours',\n",
       " 'and another way another life breathin',\n",
       " 'i did it all cause it feel good',\n",
       " 'i wouldnt do it at all if it feel bad',\n",
       " 'better live your life were runnin out of time',\n",
       " 'love lets talk about love',\n",
       " 'is it anything and everything you hoped for',\n",
       " 'or do the feeling haunt you',\n",
       " 'i know the feeling haunt you',\n",
       " 'this may be the night that my dreams might let me know',\n",
       " 'all the stars approach you all the stars approach you all the stars approach you',\n",
       " 'this may be the night that my dreams might let me know',\n",
       " 'all the stars are closer all the stars are closer all the stars are closer']"
      ]
     },
     "execution_count": 107,
     "metadata": {},
     "output_type": "execute_result"
    }
   ],
   "source": [
    "def clean_song(song):\n",
    "    cleaned_song = []\n",
    "    for line in song:\n",
    "        if not '[' in line and not']' in line:\n",
    "            for symbol in \",''\\n?\":\n",
    "                line = line.replace(symbol, '').lower()\n",
    "            cleaned_song.append(line)\n",
    "            \n",
    "    return cleaned_song\n",
    "            \n",
    "    \n",
    "\n",
    "song_without_brackets = clean_song(test_song)\n",
    "song_without_brackets"
   ]
  },
  {
   "cell_type": "code",
   "execution_count": 35,
   "metadata": {},
   "outputs": [
    {
     "data": {
      "text/plain": [
       "\"Love, let's talk about love\\n\""
      ]
     },
     "execution_count": 35,
     "metadata": {},
     "output_type": "execute_result"
    }
   ],
   "source": [
    "test_song[1]"
   ]
  },
  {
   "cell_type": "markdown",
   "metadata": {},
   "source": [
    "Great. Now, write a function that takes in songs that have had their brackets removed, joins all of the lines into a single string, and then uses `tokenize()` on it to get a fully tokenized version of the song.  Test this function on `song_without_brackets` to ensure that the function works. "
   ]
  },
  {
   "cell_type": "code",
   "execution_count": 108,
   "metadata": {},
   "outputs": [
    {
     "data": {
      "text/plain": [
       "['love',\n",
       " 'lets',\n",
       " 'talk',\n",
       " 'about',\n",
       " 'love',\n",
       " 'is',\n",
       " 'it',\n",
       " 'anything',\n",
       " 'and',\n",
       " 'everything']"
      ]
     },
     "execution_count": 108,
     "metadata": {},
     "output_type": "execute_result"
    }
   ],
   "source": [
    "def tokenize(song):\n",
    "    song = ' '.join(song)\n",
    "    tokens= word_tokenize(song)\n",
    "    return tokens\n",
    "\n",
    "tokenized_test_song = tokenize(song_without_brackets)\n",
    "tokenized_test_song[:10]"
   ]
  },
  {
   "cell_type": "markdown",
   "metadata": {},
   "source": [
    "Great! Now that we can tokenize our songs, we can move onto vectorization. \n",
    "\n",
    "\n",
    "### Count Vectorization\n",
    "\n",
    "Machine Learning algorithms don't understand strings. However, they do understand math, which means they understand vectors and matrices.  By **_Vectorizing_** the text, we just convert the entire text into a vector, where each element in the vector represents a different word. The vector is the length of the entire vocabulary -- usually, every word that occurs in the English language, or at least every word that appears in our corpus.  Any given sentence can then be represented as a vector where all the vector is 1 (or some other value) for each time that word appears in the sentence. \n",
    "\n",
    "Consider the following example: \n",
    "\n",
    "<center>\"I scream, you scream, we all scream for ice cream.\"</center>\n",
    "\n",
    "| 'aardvark' | 'apple' | [...] | 'I' | 'you' | 'scream' | 'we' | 'all' | 'for' | 'ice' | 'cream' | [...] | 'xylophone' | 'zebra' |\n",
    "|:----------:|:-------:|:-----:|:---:|:-----:|:--------:|:----:|:-----:|:-----:|:-----:|:-------:|:-----:|:-----------:|:-------:|\n",
    "|      0     |    0    |   0   |  1  |   1   |     3    |   1  |   1   |   1   |   1   |    1    |   0   |      0      |    0    |\n",
    "\n",
    "This is called a **_Sparse Representation_**, since the strong majority of the columns will have a value of 0.  Note that elements corresponding to words that do not occur in the sentence have a value of 0, while words that do appear in the sentence have a value of 1 (or 1 for each time it appears in the sentence).\n",
    "\n",
    "Alternatively, we can represent this sentence as a plain old Python dictionary of word frequency counts:\n",
    "\n",
    "```python\n",
    "BoW = {\n",
    "    'I':1,\n",
    "    'you':1,\n",
    "    'scream':3,\n",
    "    'we':1,\n",
    "    'all':1,\n",
    "    'for':1,\n",
    "    'ice':1,\n",
    "    'cream':1\n",
    "}\n",
    "```\n",
    "\n",
    "Both of these are examples of **_Count Vectorization_**. They allow us to represent a sentence as a vector, with each element in the vector corresponding to how many times that word is used.\n",
    "\n",
    "#### Positional Information and Bag of Words\n",
    "\n",
    "Notice that when we vectorize a sentence this way, we lose the order that the words were in.  This is the **_Bag of Words_** approach mentioned earlier.  Note that sentences that contain the same words will create the same vectors, even if they mean different things -- e.g. `'cats are scared of dogs'` and `'dogs are scared of cats'` would both produce the exact same vector, since they contain the same words.  \n",
    "\n",
    "In the cell below, create a function that takes in a tokenized, cleaned song and returns a count vectorized representation of it as a Python dictionary. Add in an optional parameter called `vocab` that defaults to `None`. This way, if we are using a vocabulary that contains words not seen in the song, we can still use this function by passing it into the `vocab` parameter. \n",
    "\n",
    "**_Hint:_**  Consider using a `set()` to make this easier!"
   ]
  },
  {
   "cell_type": "code",
   "execution_count": 127,
   "metadata": {},
   "outputs": [
    {
     "data": {
      "text/plain": [
       "{'love': 6,\n",
       " 'lets': 3,\n",
       " 'talk': 3,\n",
       " 'about': 3,\n",
       " 'is': 3,\n",
       " 'it': 7,\n",
       " 'anything': 3,\n",
       " 'and': 6,\n",
       " 'everything': 3,\n",
       " 'you': 34,\n",
       " 'hoped': 3,\n",
       " 'for': 7,\n",
       " 'or': 4,\n",
       " 'do': 8,\n",
       " 'the': 38,\n",
       " 'feeling': 7,\n",
       " 'haunt': 6,\n",
       " 'i': 15,\n",
       " 'know': 9,\n",
       " 'this': 6,\n",
       " 'may': 6,\n",
       " 'be': 6,\n",
       " 'night': 6,\n",
       " 'that': 8,\n",
       " 'my': 7,\n",
       " 'dreams': 6,\n",
       " 'might': 6,\n",
       " 'let': 6,\n",
       " 'me': 14,\n",
       " 'all': 22,\n",
       " 'stars': 18,\n",
       " 'approach': 9,\n",
       " 'are': 9,\n",
       " 'closer': 9,\n",
       " 'tell': 1,\n",
       " 'what': 1,\n",
       " 'gon': 1,\n",
       " 'to': 6,\n",
       " 'confrontation': 1,\n",
       " 'aint': 4,\n",
       " 'nothin': 1,\n",
       " 'new': 1,\n",
       " 'can': 1,\n",
       " 'bring': 4,\n",
       " 'a': 7,\n",
       " 'bullet': 1,\n",
       " 'sword': 1,\n",
       " 'morgue': 1,\n",
       " 'but': 1,\n",
       " 'cant': 1,\n",
       " 'truth': 1,\n",
       " 'fuck': 1,\n",
       " 'your': 5,\n",
       " 'expectations': 1,\n",
       " 'dont': 2,\n",
       " 'even': 2,\n",
       " 'want': 2,\n",
       " 'congratulations': 1,\n",
       " 'recognize': 1,\n",
       " 'false': 1,\n",
       " 'confidence': 1,\n",
       " 'calculated': 1,\n",
       " 'promises': 1,\n",
       " 'in': 2,\n",
       " 'conversation': 1,\n",
       " 'hate': 1,\n",
       " 'people': 1,\n",
       " 'feel': 4,\n",
       " 'entitled': 1,\n",
       " 'look': 1,\n",
       " 'at': 2,\n",
       " 'crazy': 1,\n",
       " 'cause': 2,\n",
       " 'invite': 1,\n",
       " 'oh': 1,\n",
       " 'important': 1,\n",
       " 'moral': 1,\n",
       " 'story': 1,\n",
       " 'endorsin': 1,\n",
       " 'motherfucker': 1,\n",
       " 'like': 6,\n",
       " 'corrupt': 1,\n",
       " 'mans': 1,\n",
       " 'heart': 1,\n",
       " 'with': 3,\n",
       " 'gift': 1,\n",
       " 'thats': 2,\n",
       " 'how': 1,\n",
       " 'find': 1,\n",
       " 'out': 2,\n",
       " 'who': 2,\n",
       " 'dealin': 1,\n",
       " 'small': 1,\n",
       " 'percentage': 1,\n",
       " 'im': 3,\n",
       " 'buildin': 1,\n",
       " 'credit': 1,\n",
       " 'if': 3,\n",
       " 'losin': 1,\n",
       " 'winnin': 1,\n",
       " 'on': 1,\n",
       " 'momma': 1,\n",
       " 'realest': 1,\n",
       " 'shit': 1,\n",
       " 'skin': 1,\n",
       " 'covered': 1,\n",
       " 'ego': 1,\n",
       " 'get': 2,\n",
       " 'talkin': 1,\n",
       " 'ya': 1,\n",
       " 'involved': 1,\n",
       " 'rebound': 1,\n",
       " 'got': 3,\n",
       " 'no': 4,\n",
       " 'end': 1,\n",
       " 'game': 1,\n",
       " 'reason': 3,\n",
       " 'stay': 1,\n",
       " 'down': 1,\n",
       " 'its': 1,\n",
       " 'way': 2,\n",
       " 'making': 1,\n",
       " 'nobody': 1,\n",
       " 'ever': 1,\n",
       " 'loved': 1,\n",
       " 'kinda': 1,\n",
       " 'youre': 1,\n",
       " 'tryna': 1,\n",
       " 'away': 1,\n",
       " 'from': 1,\n",
       " 'wont': 1,\n",
       " 'move': 1,\n",
       " 'just': 2,\n",
       " 'cryin': 1,\n",
       " 'prayin': 1,\n",
       " 'give': 1,\n",
       " 'thanks': 1,\n",
       " 'days': 1,\n",
       " 'hours': 1,\n",
       " 'another': 2,\n",
       " 'life': 2,\n",
       " 'breathin': 1,\n",
       " 'did': 1,\n",
       " 'good': 1,\n",
       " 'wouldnt': 1,\n",
       " 'bad': 1,\n",
       " 'better': 1,\n",
       " 'live': 1,\n",
       " 'were': 1,\n",
       " 'runnin': 1,\n",
       " 'of': 1,\n",
       " 'time': 1}"
      ]
     },
     "execution_count": 127,
     "metadata": {},
     "output_type": "execute_result"
    }
   ],
   "source": [
    "def count_vectorize(song, vocab=None):\n",
    "    vocab_dict = {}\n",
    "    for word in song:\n",
    "        if word not in vocab_dict:\n",
    "            vocab_dict.update({word : 1})\n",
    "        else:\n",
    "            vocab_dict.update({word : vocab_dict[word] + 1})\n",
    "    return vocab_dict\n",
    "\n",
    "test_vectorized = count_vectorize(tokenized_test_song)\n",
    "test_vectorized"
   ]
  },
  {
   "cell_type": "markdown",
   "metadata": {},
   "source": [
    "Great! You've just successfully vectorized your first text document! Now, let's look at a more advanced type of vectorization, TF-IDF!\n",
    "\n",
    "### TF-IDF Vectorization\n",
    "\n",
    "TF-IDF stands for **_Term Frequency, Inverse Document Frequency_**.  This is a more advanced form of vectorization that weighs each term in a document by how unique it is to the given document it is contained in, which allows us to summarize the contents of a document using a few key words.  If the word is used often in many other documents, it is not unique, and therefore probably not too useful if we wanted to figure out how this document is unique in relation to other documents. Conversely, if a word is used many times in a document, but rarely in all the other documents we are considering, then it is likely a good indicator for telling us that this word is important to the document in question.  \n",
    "\n",
    "The formula TF-IDF uses to determine the weights of each term in a document is **_Term Frequency_** multiplied by **_Inverse Document Frequency_**, where the formula for Term Frequency is:\n",
    "\n",
    "$$\\large Term\\ Frequency(t) = \\frac{number\\ of\\ times\\ t\\ appears\\ in\\ a\\ document} {total\\ number\\ of\\ terms\\ in\\ the\\ document} $$\n",
    "<br>\n",
    "<br>\n",
    "Complete the following function below to calculate term frequency for every term in a document.  "
   ]
  },
  {
   "cell_type": "code",
   "execution_count": 134,
   "metadata": {},
   "outputs": [
    {
     "name": "stdout",
     "output_type": "stream",
     "text": [
      "['hoped', 'for', 'or', 'do', 'the', 'feeling', 'haunt', 'i', 'know', 'this']\n"
     ]
    },
    {
     "data": {
      "text/plain": [
       "{'love': 0.012500000000000016,\n",
       " 'lets': 0.006250000000000008,\n",
       " 'talk': 0.006250000000000008,\n",
       " 'about': 0.006250000000000008,\n",
       " 'is': 0.006250000000000008,\n",
       " 'it': 0.014583333333333353,\n",
       " 'anything': 0.006250000000000008,\n",
       " 'and': 0.012500000000000016,\n",
       " 'everything': 0.006250000000000008,\n",
       " 'you': 0.07083333333333343,\n",
       " 'hoped': 0.006250000000000008,\n",
       " 'for': 0.014583333333333353,\n",
       " 'or': 0.008333333333333345,\n",
       " 'do': 0.01666666666666669,\n",
       " 'the': 0.07916666666666676,\n",
       " 'feeling': 0.014583333333333353,\n",
       " 'haunt': 0.012500000000000016,\n",
       " 'i': 0.03125000000000005,\n",
       " 'know': 0.018750000000000024,\n",
       " 'this': 0.012500000000000016,\n",
       " 'may': 0.012500000000000016,\n",
       " 'be': 0.012500000000000016,\n",
       " 'night': 0.012500000000000016,\n",
       " 'that': 0.01666666666666669,\n",
       " 'my': 0.014583333333333353,\n",
       " 'dreams': 0.012500000000000016,\n",
       " 'might': 0.012500000000000016,\n",
       " 'let': 0.012500000000000016,\n",
       " 'me': 0.029166666666666705,\n",
       " 'all': 0.04583333333333339,\n",
       " 'stars': 0.03750000000000005,\n",
       " 'approach': 0.018750000000000024,\n",
       " 'are': 0.018750000000000024,\n",
       " 'closer': 0.018750000000000024,\n",
       " 'tell': 0.0020833333333333363,\n",
       " 'what': 0.0020833333333333363,\n",
       " 'gon': 0.0020833333333333363,\n",
       " 'to': 0.012500000000000016,\n",
       " 'confrontation': 0.0020833333333333363,\n",
       " 'aint': 0.008333333333333345,\n",
       " 'nothin': 0.0020833333333333363,\n",
       " 'new': 0.0020833333333333363,\n",
       " 'can': 0.0020833333333333363,\n",
       " 'bring': 0.008333333333333345,\n",
       " 'a': 0.014583333333333353,\n",
       " 'bullet': 0.0020833333333333363,\n",
       " 'sword': 0.0020833333333333363,\n",
       " 'morgue': 0.0020833333333333363,\n",
       " 'but': 0.0020833333333333363,\n",
       " 'cant': 0.0020833333333333363,\n",
       " 'truth': 0.0020833333333333363,\n",
       " 'fuck': 0.0020833333333333363,\n",
       " 'your': 0.01041666666666668,\n",
       " 'expectations': 0.0020833333333333363,\n",
       " 'dont': 0.004166666666666673,\n",
       " 'even': 0.004166666666666673,\n",
       " 'want': 0.004166666666666673,\n",
       " 'congratulations': 0.0020833333333333363,\n",
       " 'recognize': 0.0020833333333333363,\n",
       " 'false': 0.0020833333333333363,\n",
       " 'confidence': 0.0020833333333333363,\n",
       " 'calculated': 0.0020833333333333363,\n",
       " 'promises': 0.0020833333333333363,\n",
       " 'in': 0.004166666666666673,\n",
       " 'conversation': 0.0020833333333333363,\n",
       " 'hate': 0.0020833333333333363,\n",
       " 'people': 0.0020833333333333363,\n",
       " 'feel': 0.008333333333333345,\n",
       " 'entitled': 0.0020833333333333363,\n",
       " 'look': 0.0020833333333333363,\n",
       " 'at': 0.004166666666666673,\n",
       " 'crazy': 0.0020833333333333363,\n",
       " 'cause': 0.004166666666666673,\n",
       " 'invite': 0.0020833333333333363,\n",
       " 'oh': 0.0020833333333333363,\n",
       " 'important': 0.0020833333333333363,\n",
       " 'moral': 0.0020833333333333363,\n",
       " 'story': 0.0020833333333333363,\n",
       " 'endorsin': 0.0020833333333333363,\n",
       " 'motherfucker': 0.0020833333333333363,\n",
       " 'like': 0.012500000000000016,\n",
       " 'corrupt': 0.0020833333333333363,\n",
       " 'mans': 0.0020833333333333363,\n",
       " 'heart': 0.0020833333333333363,\n",
       " 'with': 0.006250000000000008,\n",
       " 'gift': 0.0020833333333333363,\n",
       " 'thats': 0.004166666666666673,\n",
       " 'how': 0.0020833333333333363,\n",
       " 'find': 0.0020833333333333363,\n",
       " 'out': 0.004166666666666673,\n",
       " 'who': 0.004166666666666673,\n",
       " 'dealin': 0.0020833333333333363,\n",
       " 'small': 0.0020833333333333363,\n",
       " 'percentage': 0.0020833333333333363,\n",
       " 'im': 0.006250000000000008,\n",
       " 'buildin': 0.0020833333333333363,\n",
       " 'credit': 0.0020833333333333363,\n",
       " 'if': 0.006250000000000008,\n",
       " 'losin': 0.0020833333333333363,\n",
       " 'winnin': 0.0020833333333333363,\n",
       " 'on': 0.0020833333333333363,\n",
       " 'momma': 0.0020833333333333363,\n",
       " 'realest': 0.0020833333333333363,\n",
       " 'shit': 0.0020833333333333363,\n",
       " 'skin': 0.0020833333333333363,\n",
       " 'covered': 0.0020833333333333363,\n",
       " 'ego': 0.0020833333333333363,\n",
       " 'get': 0.004166666666666673,\n",
       " 'talkin': 0.0020833333333333363,\n",
       " 'ya': 0.0020833333333333363,\n",
       " 'involved': 0.0020833333333333363,\n",
       " 'rebound': 0.0020833333333333363,\n",
       " 'got': 0.006250000000000008,\n",
       " 'no': 0.008333333333333345,\n",
       " 'end': 0.0020833333333333363,\n",
       " 'game': 0.0020833333333333363,\n",
       " 'reason': 0.006250000000000008,\n",
       " 'stay': 0.0020833333333333363,\n",
       " 'down': 0.0020833333333333363,\n",
       " 'its': 0.0020833333333333363,\n",
       " 'way': 0.004166666666666673,\n",
       " 'making': 0.0020833333333333363,\n",
       " 'nobody': 0.0020833333333333363,\n",
       " 'ever': 0.0020833333333333363,\n",
       " 'loved': 0.0020833333333333363,\n",
       " 'kinda': 0.0020833333333333363,\n",
       " 'youre': 0.0020833333333333363,\n",
       " 'tryna': 0.0020833333333333363,\n",
       " 'away': 0.0020833333333333363,\n",
       " 'from': 0.0020833333333333363,\n",
       " 'wont': 0.0020833333333333363,\n",
       " 'move': 0.0020833333333333363,\n",
       " 'just': 0.004166666666666673,\n",
       " 'cryin': 0.0020833333333333363,\n",
       " 'prayin': 0.0020833333333333363,\n",
       " 'give': 0.0020833333333333363,\n",
       " 'thanks': 0.0020833333333333363,\n",
       " 'days': 0.0020833333333333363,\n",
       " 'hours': 0.0020833333333333363,\n",
       " 'another': 0.004166666666666673,\n",
       " 'life': 0.004166666666666673,\n",
       " 'breathin': 0.0020833333333333363,\n",
       " 'did': 0.0020833333333333363,\n",
       " 'good': 0.0020833333333333363,\n",
       " 'wouldnt': 0.0020833333333333363,\n",
       " 'bad': 0.0020833333333333363,\n",
       " 'better': 0.0020833333333333363,\n",
       " 'live': 0.0020833333333333363,\n",
       " 'were': 0.0020833333333333363,\n",
       " 'runnin': 0.0020833333333333363,\n",
       " 'of': 0.0020833333333333363,\n",
       " 'time': 0.0020833333333333363}"
      ]
     },
     "execution_count": 134,
     "metadata": {},
     "output_type": "execute_result"
    }
   ],
   "source": [
    "def term_frequency(BoW_dict):\n",
    "    num_of_terms = sum(BoW_dict.values())\n",
    "    \n",
    "    for keys in BoW_dict:\n",
    "        num_of_times = BoW_dict[keys]\n",
    "        BoW_dict.update({keys :  num_of_times/ num_of_terms})\n",
    "    return(BoW_dict)\n",
    "        \n",
    "        \n",
    "\n",
    "test = term_frequency(test_vectorized)\n",
    "print(list(test)[10:20])\n",
    "test"
   ]
  },
  {
   "cell_type": "markdown",
   "metadata": {},
   "source": [
    "Now that we have this, we can easily calculate _Inverse Document Frequency_.  In the cell below, complete the following function.  this function should take in the list of dictionaries, with each item in the list being a bag of words representing the words in a different song. The function should return a dictionary containing the inverse document frequency values for each word.  \n",
    "\n",
    "The formula for Inverse Document Frequency is:  \n",
    "<br>  \n",
    "<br>\n",
    "$$\\large  IDF(t) =  log_e(\\frac{Total\\ Number\\ of\\ Documents}{Number\\ of\\ Documents\\ with\\ t\\ in\\ it})$$"
   ]
  },
  {
   "cell_type": "code",
   "execution_count": null,
   "metadata": {},
   "outputs": [],
   "source": [
    "def inverse_document_frequency(list_of_dicts):\n",
    "    num_of_documents = len(list_of_dicts)\n",
    "    vocab_dict = {}\n",
    "    \n",
    "    for dicts in list_of_dicts:\n",
    "        for word in dicts:\n",
    "            \n",
    "            "
   ]
  },
  {
   "cell_type": "markdown",
   "metadata": {},
   "source": [
    "### Computing TF-IDF\n",
    "\n",
    "Now that we can compute both Term Frequency and Inverse Document Frequency, computing an overall TF-IDF value is simple! All we need to do is multiply the two values.  \n",
    "\n",
    "In the cell below, complete the `tf_idf()` function.  This function should take in a list of dictionaries, just as the `inverse_document_frequency()` function did.  This function returns a new list of dictionaries, with each dictionary containing the tf-idf vectorized representation of a corresponding song document. \n",
    "\n",
    "**_NOTE:_** Each document should contain the full vocabulary of the entire combined corpus.  "
   ]
  },
  {
   "cell_type": "code",
   "execution_count": null,
   "metadata": {},
   "outputs": [],
   "source": [
    "def tf_idf(list_of_dicts):\n",
    "    pass"
   ]
  },
  {
   "cell_type": "markdown",
   "metadata": {},
   "source": [
    "### Vectorizing All Documents\n",
    "\n",
    "Now that we've created all the necessary helper functions, we can load in all of our documents and run each through the vectorization pipeline we've just created.\n",
    "\n",
    "In the cell below, complete the `main()` function.  This function should take in a list of file names (provided for you in the `filenames` list we created at the start), and then:\n",
    "\n",
    "- Read in each document\n",
    "- Tokenize each document\n",
    "- Convert each document to a bag of words (dictionary representation)\n",
    "- Return a list of dictionaries vectorized using tf-idf, where each dictionary is a vectorized representation of a document "
   ]
  },
  {
   "cell_type": "code",
   "execution_count": null,
   "metadata": {},
   "outputs": [],
   "source": [
    "def main(filenames):\n",
    "    pass\n",
    "\n",
    "tf_idf_all_docs = None\n",
    "print(list(tf_idf_all_docs[0])[:10])"
   ]
  },
  {
   "cell_type": "markdown",
   "metadata": {},
   "source": [
    "### Visualizing our Vectorizations\n",
    "\n",
    "Now that we have a tf-idf representation of each document, we can move on to the fun part -- visualizing everything!\n",
    "\n",
    "In the cell below, examine our dataset to figure out how many dimensions our dataset has. \n",
    "\n",
    "**_HINT_**: Remember that every word is its own dimension!"
   ]
  },
  {
   "cell_type": "code",
   "execution_count": null,
   "metadata": {},
   "outputs": [],
   "source": [
    "num_dims = None\n",
    "print(\"Number of Dimensions: {}\".format(num_dims))"
   ]
  },
  {
   "cell_type": "markdown",
   "metadata": {},
   "source": [
    "There are too many dimensions for us to visualize! In order to make it understandable to human eyes, we'll need to reduce it to 2 or 3 dimensions.  \n",
    "\n",
    "To do this, we'll use a technique called **_t-SNE_** (short for _t-Stochastic Neighbors Embedding_).  This is too complex for us to code ourselves, so we'll make use of scikit-learn's implementation of it.  \n",
    "\n",
    "First, we need to pull the words out of the dictionaries stored in `tf_idf_all_docs` so that only the values remain, and store them in lists instead of dictionaries.  This is because the t-SNE only works with array-like objects, not dictionaries.  \n",
    "\n",
    "In the cell below, create a list of lists that contains a list representation of the values of each of the dictionaries stored in `tf_idf_all_docs`.  The same structure should remain -- e.g. the first list should contain only the values that were in the first dictionary in `tf_idf_all_docs`, and so on. "
   ]
  },
  {
   "cell_type": "code",
   "execution_count": null,
   "metadata": {},
   "outputs": [],
   "source": [
    "tf_idf_vals_list = []\n",
    "\n",
    "for i in tf_idf_all_docs:\n",
    "    tf_idf_vals_list.append(list(i.values()))\n",
    "    \n",
    "tf_idf_vals_list[0][:10]"
   ]
  },
  {
   "cell_type": "markdown",
   "metadata": {},
   "source": [
    "Now that we have only the values, we can use the `TSNE()` class from `sklearn` to transform our data appropriately.  In the cell below, instantiate `TSNE()` with `n_components=3`.  Then, use the created object's `.fit_transform()` method to transform the data stored in `tf_idf_vals_list` into 3-dimensional data.  Then, inspect the newly transformed data to confirm that it has the correct dimensionality. "
   ]
  },
  {
   "cell_type": "code",
   "execution_count": null,
   "metadata": {},
   "outputs": [],
   "source": [
    "t_sne_object_3d = None\n",
    "transformed_data_3d = None\n",
    "transformed_data_3d"
   ]
  },
  {
   "cell_type": "markdown",
   "metadata": {},
   "source": [
    "We'll also want to check out how the visualization looks in 2d.  Repeat the process above, but this time, instantiate `TSNE()` with 2 components instead of 3.  Again, use `.fit_transform()` to transform the data and store it in the variable below, and then inspect it to confirm the transformed data has only 2 dimensions. "
   ]
  },
  {
   "cell_type": "code",
   "execution_count": null,
   "metadata": {},
   "outputs": [],
   "source": [
    "t_sne_object_2d = None\n",
    "transformed_data_2d = None\n",
    "transformed_data_2d"
   ]
  },
  {
   "cell_type": "markdown",
   "metadata": {},
   "source": [
    "Now, let's visualize everything!  Run the cell below to view both 3D and 2D visualizations of the songs."
   ]
  },
  {
   "cell_type": "code",
   "execution_count": null,
   "metadata": {},
   "outputs": [],
   "source": [
    "kendrick_3d = transformed_data_3d[:10]\n",
    "k3_x = [i[0] for i in kendrick_3d]\n",
    "k3_y = [i[1] for i in kendrick_3d]\n",
    "k3_z = [i[2] for i in kendrick_3d]\n",
    "\n",
    "garth_3d = transformed_data_3d[10:]\n",
    "g3_x = [i[0] for i in garth_3d]\n",
    "g3_y = [i[1] for i in garth_3d]\n",
    "g3_z = [i[2] for i in garth_3d]\n",
    "\n",
    "fig = plt.figure(figsize=(10,5))\n",
    "ax = fig.add_subplot(111, projection='3d')\n",
    "ax.scatter(k3_x, k3_y, k3_z, c='b', s=60, label='Kendrick')\n",
    "ax.scatter(g3_x, g3_y, g3_z, c='red', s=60, label='Garth')\n",
    "ax.view_init(30, 10)\n",
    "ax.legend()\n",
    "plt.show()\n",
    "\n",
    "kendrick_2d = transformed_data_2d[:10]\n",
    "k2_x = [i[0] for i in kendrick_2d]\n",
    "k2_y = [i[1] for i in kendrick_2d]\n",
    "\n",
    "garth_2d = transformed_data_2d[10:]\n",
    "g2_x = [i[0] for i in garth_2d]\n",
    "g2_y = [i[1] for i in garth_2d]\n",
    "\n",
    "fig = plt.figure(figsize=(20,10))\n",
    "ax = fig.add_subplot(222)\n",
    "ax.scatter(k2_x, k2_y, c='b', label='Kendrick')\n",
    "ax.scatter(g2_x, g2_y, c='red', label='Garth')\n",
    "ax.legend()\n",
    "plt.show()"
   ]
  },
  {
   "cell_type": "markdown",
   "metadata": {},
   "source": [
    "Interesting! Take a crack at interpreting these graphs by answering the following questions below:\n",
    "\n",
    "What does each graph mean? Do you find one graph more informative than the other? Do you think that this method shows us discernable differences between Kendrick Lamar songs and Garth Brooks songs?  Use the graphs and your understanding of TF-IDF to support your answer.  \n",
    "\n",
    "Write your answer to this question below this line:\n",
    "________________________________________________________________________________________________________________________________\n",
    "\n",
    "Both graphs show a basic trend among the red and blue dots, although the 3-dimensional graph is more informative than the 2-dimensional graph. We see a separation between the two artists because they both have words that they use, but the other artist does not. The words in each song that are common to both are reduced to very small numbers or to 0, because of the log operation in the IDF function.  This means that the elements of each song vector with the highest values will be the ones that have words that are unique to that specific document, or at least are rarely used in others.  "
   ]
  },
  {
   "cell_type": "markdown",
   "metadata": {},
   "source": [
    "## Summary\n",
    "\n",
    "In this lab, you learned how to: \n",
    "* Tokenize a corpus of words and identify the different choices to be made while parsing them \n",
    "* Use a count vectorization strategy to create a bag of words\n",
    "* Use TF-IDF vectorization with multiple documents to identify words that are important/unique to certain documents\n",
    "* Visualize and compare vectorized text documents"
   ]
  }
 ],
 "metadata": {
  "kernelspec": {
   "display_name": "Python 3",
   "language": "python",
   "name": "python3"
  },
  "language_info": {
   "codemirror_mode": {
    "name": "ipython",
    "version": 3
   },
   "file_extension": ".py",
   "mimetype": "text/x-python",
   "name": "python",
   "nbconvert_exporter": "python",
   "pygments_lexer": "ipython3",
   "version": "3.7.4"
  }
 },
 "nbformat": 4,
 "nbformat_minor": 2
}
